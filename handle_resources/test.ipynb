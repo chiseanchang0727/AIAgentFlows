{
 "cells": [
  {
   "cell_type": "code",
   "execution_count": 35,
   "metadata": {},
   "outputs": [],
   "source": [
    "from mcp.server import FastMCP\n",
    "from mcp.types import ListResourcesRequest\n",
    "from mcp.server.fastmcp.resources import ResourceManager\n",
    "from datetime import datetime\n",
    "from pydantic import AnyUrl\n",
    "import mcp.types as types\n",
    "import logging"
   ]
  },
  {
   "cell_type": "code",
   "execution_count": 51,
   "metadata": {},
   "outputs": [],
   "source": [
    "from mcp.types import ListResourceTemplatesRequest, ReadResourceRequestParams"
   ]
  },
  {
   "cell_type": "code",
   "execution_count": 36,
   "metadata": {},
   "outputs": [],
   "source": [
    "logger = logging.getLogger('MCP resources tesp')\n",
    "logger.info(\"Starting...\")"
   ]
  },
  {
   "cell_type": "code",
   "execution_count": 38,
   "metadata": {},
   "outputs": [],
   "source": [
    "mcp = FastMCP(name=\"Test MCP resources\")"
   ]
  },
  {
   "cell_type": "code",
   "execution_count": 52,
   "metadata": {},
   "outputs": [
    {
     "ename": "TypeError",
     "evalue": "FastMCP._setup_handlers() takes 1 positional argument but 2 were given",
     "output_type": "error",
     "traceback": [
      "\u001b[1;31m---------------------------------------------------------------------------\u001b[0m",
      "\u001b[1;31mTypeError\u001b[0m                                 Traceback (most recent call last)",
      "Cell \u001b[1;32mIn[52], line 1\u001b[0m\n\u001b[1;32m----> 1\u001b[0m \u001b[38;5;129m@mcp\u001b[39m\u001b[38;5;241;43m.\u001b[39;49m\u001b[43m_setup_handlers\u001b[49m\u001b[43m(\u001b[49m\u001b[43mListResourceTemplatesRequest\u001b[49m\u001b[43m)\u001b[49m\n\u001b[0;32m      2\u001b[0m \u001b[38;5;28;01masync\u001b[39;00m \u001b[38;5;28;01mdef\u001b[39;00m\u001b[38;5;250m \u001b[39m\u001b[38;5;21mlist_resources\u001b[39m(request):\n\u001b[0;32m      3\u001b[0m     \u001b[38;5;28;01mreturn\u001b[39;00m {\n\u001b[0;32m      4\u001b[0m         \u001b[38;5;124m'\u001b[39m\u001b[38;5;124mresources\u001b[39m\u001b[38;5;124m'\u001b[39m: [\n\u001b[0;32m      5\u001b[0m             {\n\u001b[1;32m   (...)\u001b[0m\n\u001b[0;32m     11\u001b[0m         ]\n\u001b[0;32m     12\u001b[0m     }\n",
      "\u001b[1;31mTypeError\u001b[0m: FastMCP._setup_handlers() takes 1 positional argument but 2 were given"
     ]
    }
   ],
   "source": [
    "@mcp._setup_handlers(ListResourceTemplatesRequest)\n",
    "async def list_resources(request):\n",
    "    return {\n",
    "        'resources': [\n",
    "            {\n",
    "                'uri': 'hello://world',\n",
    "                'name': 'Hello World Message',\n",
    "                'description': 'A simple greeting message',\n",
    "                'mimeType': 'text/plain',\n",
    "            }\n",
    "        ]\n",
    "    }"
   ]
  },
  {
   "cell_type": "code",
   "execution_count": 22,
   "metadata": {},
   "outputs": [],
   "source": [
    "@mcp.resource(\"timereporter://\")\n",
    "def get_time_now():\n",
    "    return f\"Current time is: {datetime.now().strftime('%Y-%m-%d %H:%M')}\""
   ]
  },
  {
   "cell_type": "code",
   "execution_count": 23,
   "metadata": {},
   "outputs": [
    {
     "data": {
      "text/plain": [
       "'Current time is: 2025-03-25 10:57'"
      ]
     },
     "execution_count": 23,
     "metadata": {},
     "output_type": "execute_result"
    }
   ],
   "source": [
    "get_time_now()"
   ]
  },
  {
   "cell_type": "code",
   "execution_count": 25,
   "metadata": {},
   "outputs": [],
   "source": [
    "@mcp.resource(\"grettings://{name}\")\n",
    "def get_greeting(name: str) -> str:\n",
    "    \"\"\"Get a personalized greeting\"\"\"\n",
    "    return f\"Hello, {name}!\""
   ]
  },
  {
   "cell_type": "code",
   "execution_count": 26,
   "metadata": {},
   "outputs": [
    {
     "data": {
      "text/plain": [
       "'Hello, Ted!'"
      ]
     },
     "execution_count": 26,
     "metadata": {},
     "output_type": "execute_result"
    }
   ],
   "source": [
    "get_greeting(\"Ted\")"
   ]
  },
  {
   "cell_type": "code",
   "execution_count": 50,
   "metadata": {},
   "outputs": [
    {
     "data": {
      "text/plain": [
       "Resource(uri=AnyUrl('timereporter://'), name='demo', description=None, mimeType='text/plain', size=None, annotations=None)"
      ]
     },
     "execution_count": 50,
     "metadata": {},
     "output_type": "execute_result"
    }
   ],
   "source": [
    "types.Resource(\n",
    "    uri=AnyUrl(\"timereporter://\"),\n",
    "    name=\"demo\",\n",
    "    mimeType=\"text/plain\")"
   ]
  },
  {
   "cell_type": "code",
   "execution_count": 49,
   "metadata": {},
   "outputs": [
    {
     "name": "stderr",
     "output_type": "stream",
     "text": [
      "C:\\Users\\TWCC752671\\AppData\\Local\\Temp\\ipykernel_30204\\2260658768.py:2: RuntimeWarning: coroutine 'FastMCP.list_resources' was never awaited\n",
      "  def handle_list_resources():\n",
      "RuntimeWarning: Enable tracemalloc to get the object allocation traceback\n"
     ]
    },
    {
     "ename": "TypeError",
     "evalue": "'coroutine' object is not callable",
     "output_type": "error",
     "traceback": [
      "\u001b[1;31m---------------------------------------------------------------------------\u001b[0m",
      "\u001b[1;31mTypeError\u001b[0m                                 Traceback (most recent call last)",
      "Cell \u001b[1;32mIn[49], line 2\u001b[0m\n\u001b[0;32m      1\u001b[0m \u001b[38;5;129;43m@mcp\u001b[39;49m\u001b[38;5;241;43m.\u001b[39;49m\u001b[43mlist_resources\u001b[49m\u001b[43m(\u001b[49m\u001b[43m)\u001b[49m\n\u001b[1;32m----> 2\u001b[0m \u001b[38;5;28;43;01mdef\u001b[39;49;00m\u001b[38;5;250;43m \u001b[39;49m\u001b[38;5;21;43mhandle_list_resources\u001b[39;49m\u001b[43m(\u001b[49m\u001b[43m)\u001b[49m\u001b[43m:\u001b[49m\n\u001b[0;32m      3\u001b[0m \u001b[43m    \u001b[49m\u001b[38;5;28;43;01mreturn\u001b[39;49;00m\u001b[43m \u001b[49m\u001b[43m[\u001b[49m\n\u001b[0;32m      4\u001b[0m \u001b[43m        \u001b[49m\u001b[43mtypes\u001b[49m\u001b[38;5;241;43m.\u001b[39;49m\u001b[43mResource\u001b[49m\u001b[43m(\u001b[49m\n\u001b[0;32m      5\u001b[0m \u001b[43m            \u001b[49m\u001b[43muri\u001b[49m\u001b[38;5;241;43m=\u001b[39;49m\u001b[43mAnyUrl\u001b[49m\u001b[43m(\u001b[49m\u001b[38;5;124;43m\"\u001b[39;49m\u001b[38;5;124;43mtimereporter://\u001b[39;49m\u001b[38;5;124;43m\"\u001b[39;49m\u001b[43m)\u001b[49m\u001b[43m,\u001b[49m\n\u001b[1;32m   (...)\u001b[0m\n\u001b[0;32m      8\u001b[0m \u001b[43m        \u001b[49m\u001b[43m)\u001b[49m\n\u001b[0;32m      9\u001b[0m \u001b[43m    \u001b[49m\u001b[43m]\u001b[49m\n",
      "\u001b[1;31mTypeError\u001b[0m: 'coroutine' object is not callable"
     ]
    }
   ],
   "source": [
    "@mcp.list_resources()\n",
    "async def handle_list_resources() -> list[types.Resource]:\n",
    "    return [\n",
    "        types.Resource(\n",
    "            uri=AnyUrl(\"timereporter://\"),\n",
    "            name=\"demo\",\n",
    "            mimeType=\"text/plain\"\n",
    "        )\n",
    "    ]\n"
   ]
  },
  {
   "cell_type": "code",
   "execution_count": null,
   "metadata": {},
   "outputs": [],
   "source": []
  }
 ],
 "metadata": {
  "kernelspec": {
   "display_name": ".venv",
   "language": "python",
   "name": "python3"
  },
  "language_info": {
   "codemirror_mode": {
    "name": "ipython",
    "version": 3
   },
   "file_extension": ".py",
   "mimetype": "text/x-python",
   "name": "python",
   "nbconvert_exporter": "python",
   "pygments_lexer": "ipython3",
   "version": "3.10.16"
  }
 },
 "nbformat": 4,
 "nbformat_minor": 2
}
