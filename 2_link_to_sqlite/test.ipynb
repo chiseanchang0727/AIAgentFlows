{
 "cells": [
  {
   "cell_type": "code",
   "execution_count": 5,
   "metadata": {},
   "outputs": [],
   "source": [
    "import aiosqlite"
   ]
  },
  {
   "cell_type": "code",
   "execution_count": null,
   "metadata": {},
   "outputs": [],
   "source": [
    "async def link_to_sqlite():\n",
    "    dbpath = 'local_db.db'\n",
    "    async with aiosqlite.connect(dbpath) as conn:\n",
    "        cursor = await conn.execute(\"SELECT * FROM users\")\n",
    "        columns = [column[0] for column in cursor.description]\n",
    "        rows = await cursor.fetchall()\n",
    "        await cursor.close()\n",
    "\n",
    "        # Convert to list of dicts for better structure\n",
    "        result = [dict(zip(columns, row)) for row in rows]\n",
    "        return result"
   ]
  },
  {
   "cell_type": "code",
   "execution_count": 7,
   "metadata": {},
   "outputs": [
    {
     "data": {
      "text/plain": [
       "<coroutine object link_to_sqlite at 0x00000231626FBEF0>"
      ]
     },
     "execution_count": 7,
     "metadata": {},
     "output_type": "execute_result"
    }
   ],
   "source": [
    "link_to_sqlite()"
   ]
  },
  {
   "cell_type": "code",
   "execution_count": 8,
   "metadata": {},
   "outputs": [
    {
     "ename": "OperationalError",
     "evalue": "no such table: users",
     "output_type": "error",
     "traceback": [
      "\u001b[31m---------------------------------------------------------------------------\u001b[39m",
      "\u001b[31mOperationalError\u001b[39m                          Traceback (most recent call last)",
      "\u001b[36mCell\u001b[39m\u001b[36m \u001b[39m\u001b[32mIn[8]\u001b[39m\u001b[32m, line 3\u001b[39m\n\u001b[32m      1\u001b[39m dbpath = \u001b[33m'\u001b[39m\u001b[33mlocal_db.db\u001b[39m\u001b[33m'\u001b[39m\n\u001b[32m      2\u001b[39m \u001b[38;5;28;01masync\u001b[39;00m \u001b[38;5;28;01mwith\u001b[39;00m aiosqlite.connect(dbpath) \u001b[38;5;28;01mas\u001b[39;00m conn:\n\u001b[32m----> \u001b[39m\u001b[32m3\u001b[39m         cursor = \u001b[38;5;28;01mawait\u001b[39;00m conn.execute(\u001b[33m\"\u001b[39m\u001b[33mSELECT * FROM users\u001b[39m\u001b[33m\"\u001b[39m)\n\u001b[32m      4\u001b[39m         columns = [column[\u001b[32m0\u001b[39m] \u001b[38;5;28;01mfor\u001b[39;00m column \u001b[38;5;129;01min\u001b[39;00m cursor.description]\n\u001b[32m      5\u001b[39m         rows = \u001b[38;5;28;01mawait\u001b[39;00m cursor.fetchall()\n",
      "\u001b[36mFile \u001b[39m\u001b[32md:\\github\\AIAgentFlows\\.venv\\Lib\\site-packages\\aiosqlite\\core.py:183\u001b[39m, in \u001b[36mConnection.execute\u001b[39m\u001b[34m(self, sql, parameters)\u001b[39m\n\u001b[32m    181\u001b[39m \u001b[38;5;28;01mif\u001b[39;00m parameters \u001b[38;5;129;01mis\u001b[39;00m \u001b[38;5;28;01mNone\u001b[39;00m:\n\u001b[32m    182\u001b[39m     parameters = []\n\u001b[32m--> \u001b[39m\u001b[32m183\u001b[39m cursor = \u001b[38;5;28;01mawait\u001b[39;00m \u001b[38;5;28mself\u001b[39m._execute(\u001b[38;5;28mself\u001b[39m._conn.execute, sql, parameters)\n\u001b[32m    184\u001b[39m \u001b[38;5;28;01mreturn\u001b[39;00m Cursor(\u001b[38;5;28mself\u001b[39m, cursor)\n",
      "\u001b[36mFile \u001b[39m\u001b[32md:\\github\\AIAgentFlows\\.venv\\Lib\\site-packages\\aiosqlite\\core.py:122\u001b[39m, in \u001b[36mConnection._execute\u001b[39m\u001b[34m(self, fn, *args, **kwargs)\u001b[39m\n\u001b[32m    118\u001b[39m future = asyncio.get_event_loop().create_future()\n\u001b[32m    120\u001b[39m \u001b[38;5;28mself\u001b[39m._tx.put_nowait((future, function))\n\u001b[32m--> \u001b[39m\u001b[32m122\u001b[39m \u001b[38;5;28;01mreturn\u001b[39;00m \u001b[38;5;28;01mawait\u001b[39;00m future\n",
      "\u001b[36mFile \u001b[39m\u001b[32md:\\github\\AIAgentFlows\\.venv\\Lib\\site-packages\\aiosqlite\\core.py:105\u001b[39m, in \u001b[36mConnection.run\u001b[39m\u001b[34m(self)\u001b[39m\n\u001b[32m    103\u001b[39m \u001b[38;5;28;01mtry\u001b[39;00m:\n\u001b[32m    104\u001b[39m     LOG.debug(\u001b[33m\"\u001b[39m\u001b[33mexecuting \u001b[39m\u001b[38;5;132;01m%s\u001b[39;00m\u001b[33m\"\u001b[39m, function)\n\u001b[32m--> \u001b[39m\u001b[32m105\u001b[39m     result = \u001b[43mfunction\u001b[49m\u001b[43m(\u001b[49m\u001b[43m)\u001b[49m\n\u001b[32m    106\u001b[39m     LOG.debug(\u001b[33m\"\u001b[39m\u001b[33moperation \u001b[39m\u001b[38;5;132;01m%s\u001b[39;00m\u001b[33m completed\u001b[39m\u001b[33m\"\u001b[39m, function)\n\u001b[32m    107\u001b[39m     future.get_loop().call_soon_threadsafe(set_result, future, result)\n",
      "\u001b[31mOperationalError\u001b[39m: no such table: users"
     ]
    }
   ],
   "source": [
    "dbpath = 'local_db.db'\n",
    "async with aiosqlite.connect(dbpath) as conn:\n",
    "        cursor = await conn.execute(\"SELECT * FROM users\")\n",
    "        columns = [column[0] for column in cursor.description]\n",
    "        rows = await cursor.fetchall()"
   ]
  },
  {
   "cell_type": "code",
   "execution_count": 9,
   "metadata": {},
   "outputs": [
    {
     "name": "stdout",
     "output_type": "stream",
     "text": [
      "Users inserted!\n"
     ]
    }
   ],
   "source": [
    "import sqlite3\n",
    "\n",
    "conn = sqlite3.connect(\"local_db.db\")\n",
    "cursor = conn.cursor()\n",
    "\n",
    "# Create the users table\n",
    "cursor.execute(\"\"\"\n",
    "CREATE TABLE IF NOT EXISTS users (\n",
    "    id INTEGER PRIMARY KEY AUTOINCREMENT,\n",
    "    name TEXT,\n",
    "    email TEXT\n",
    ")\n",
    "\"\"\")\n",
    "\n",
    "# Insert sample users\n",
    "cursor.executemany(\"\"\"\n",
    "INSERT INTO users (name, email) VALUES (?, ?)\n",
    "\"\"\", [\n",
    "    (\"Alice\", \"alice@example.com\"),\n",
    "    (\"Bob\", \"bob@example.com\")\n",
    "])\n",
    "\n",
    "conn.commit()\n",
    "cursor.close()\n",
    "conn.close()\n",
    "\n",
    "print(\"Users inserted!\")\n"
   ]
  }
 ],
 "metadata": {
  "kernelspec": {
   "display_name": ".venv",
   "language": "python",
   "name": "python3"
  },
  "language_info": {
   "codemirror_mode": {
    "name": "ipython",
    "version": 3
   },
   "file_extension": ".py",
   "mimetype": "text/x-python",
   "name": "python",
   "nbconvert_exporter": "python",
   "pygments_lexer": "ipython3",
   "version": "3.11.11"
  }
 },
 "nbformat": 4,
 "nbformat_minor": 2
}
